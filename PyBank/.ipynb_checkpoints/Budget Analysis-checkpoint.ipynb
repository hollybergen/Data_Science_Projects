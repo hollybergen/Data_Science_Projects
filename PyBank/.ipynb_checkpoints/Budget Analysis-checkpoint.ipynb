{
 "cells": [
  {
   "cell_type": "code",
   "execution_count": 12,
   "metadata": {},
   "outputs": [],
   "source": [
    "import pandas as pd"
   ]
  },
  {
   "cell_type": "code",
   "execution_count": 13,
   "metadata": {},
   "outputs": [],
   "source": [
    "path = \"../PyBank/budget_data.csv\"\n",
    "\n",
    "budget_data = pd.read_csv(path)"
   ]
  },
  {
   "cell_type": "code",
   "execution_count": 14,
   "metadata": {},
   "outputs": [
    {
     "name": "stdout",
     "output_type": "stream",
     "text": [
      "        Date  Profit/Losses\n",
      "0   Jan-2010         867884\n",
      "1   Feb-2010         984655\n",
      "2   Mar-2010         322013\n",
      "3   Apr-2010         -69417\n",
      "4   May-2010         310503\n",
      "5   Jun-2010         522857\n",
      "6   Jul-2010        1033096\n",
      "7   Aug-2010         604885\n",
      "8   Sep-2010        -216386\n",
      "9   Oct-2010         477532\n",
      "10  Nov-2010         893810\n",
      "11  Dec-2010         -80353\n",
      "12  Jan-2011         779806\n",
      "13  Feb-2011        -335203\n",
      "14  Mar-2011         697845\n",
      "15  Apr-2011         793163\n",
      "16  May-2011         485070\n",
      "17  Jun-2011         584122\n",
      "18  Jul-2011          62729\n",
      "19  Aug-2011         668179\n",
      "20  Sep-2011         899906\n",
      "21  Oct-2011         834719\n",
      "22  Nov-2011         132003\n",
      "23  Dec-2011         309978\n",
      "24  Jan-2012        -755566\n",
      "25  Feb-2012        1170593\n",
      "26  Mar-2012         252788\n",
      "27  Apr-2012        1151518\n",
      "28  May-2012         817256\n",
      "29  Jun-2012         570757\n",
      "..       ...            ...\n",
      "56  Sep-2014        1166643\n",
      "57  Oct-2014         947333\n",
      "58  Nov-2014         578668\n",
      "59  Dec-2014         988505\n",
      "60  Jan-2015        1139715\n",
      "61  Feb-2015        1029471\n",
      "62  Mar-2015         687533\n",
      "63  Apr-2015        -524626\n",
      "64  May-2015         158620\n",
      "65  Jun-2015          87795\n",
      "66  Jul-2015         423389\n",
      "67  Aug-2015         840723\n",
      "68  Sep-2015         568529\n",
      "69  Oct-2015         332067\n",
      "70  Nov-2015         989499\n",
      "71  Dec-2015         778237\n",
      "72  Jan-2016         650000\n",
      "73  Feb-2016       -1100387\n",
      "74  Mar-2016        -174946\n",
      "75  Apr-2016         757143\n",
      "76  May-2016         445709\n",
      "77  Jun-2016         712961\n",
      "78  Jul-2016       -1163797\n",
      "79  Aug-2016         569899\n",
      "80  Sep-2016         768450\n",
      "81  Oct-2016         102685\n",
      "82  Nov-2016         795914\n",
      "83  Dec-2016          60988\n",
      "84  Jan-2017         138230\n",
      "85  Feb-2017         671099\n",
      "\n",
      "[86 rows x 2 columns]\n"
     ]
    }
   ],
   "source": [
    "print(budget_data)"
   ]
  },
  {
   "cell_type": "code",
   "execution_count": 15,
   "metadata": {},
   "outputs": [
    {
     "name": "stdout",
     "output_type": "stream",
     "text": [
      "86\n"
     ]
    }
   ],
   "source": [
    "#The total number of months included in the dataset\n",
    "\n",
    "numDates = len(budget_data[\"Date\"])\n",
    "print(numDates)"
   ]
  },
  {
   "cell_type": "code",
   "execution_count": 16,
   "metadata": {},
   "outputs": [
    {
     "name": "stdout",
     "output_type": "stream",
     "text": [
      " $38382578\n"
     ]
    }
   ],
   "source": [
    "#The net total amount of \"Profit/Losses\" over the entire period\n",
    "\n",
    "netTotal = sum(budget_data[\"Profit/Losses\"])\n",
    "print(f\" ${netTotal}\")"
   ]
  },
  {
   "cell_type": "code",
   "execution_count": 22,
   "metadata": {},
   "outputs": [],
   "source": [
    "#Add column for Monthly Changes\n",
    "\n",
    "budget_data[\"Month-to-Month Changes\"] = \"\""
   ]
  },
  {
   "cell_type": "code",
   "execution_count": 25,
   "metadata": {},
   "outputs": [
    {
     "name": "stdout",
     "output_type": "stream",
     "text": [
      "        Date  Profit/Losses  Month-to-Month Changes\n",
      "0   Jan-2010         867884                     NaN\n",
      "1   Feb-2010         984655                116771.0\n",
      "2   Mar-2010         322013               -662642.0\n",
      "3   Apr-2010         -69417               -391430.0\n",
      "4   May-2010         310503                379920.0\n",
      "5   Jun-2010         522857                212354.0\n",
      "6   Jul-2010        1033096                510239.0\n",
      "7   Aug-2010         604885               -428211.0\n",
      "8   Sep-2010        -216386               -821271.0\n",
      "9   Oct-2010         477532                693918.0\n",
      "10  Nov-2010         893810                416278.0\n",
      "11  Dec-2010         -80353               -974163.0\n",
      "12  Jan-2011         779806                860159.0\n",
      "13  Feb-2011        -335203              -1115009.0\n",
      "14  Mar-2011         697845               1033048.0\n",
      "15  Apr-2011         793163                 95318.0\n",
      "16  May-2011         485070               -308093.0\n",
      "17  Jun-2011         584122                 99052.0\n",
      "18  Jul-2011          62729               -521393.0\n",
      "19  Aug-2011         668179                605450.0\n",
      "20  Sep-2011         899906                231727.0\n",
      "21  Oct-2011         834719                -65187.0\n",
      "22  Nov-2011         132003               -702716.0\n",
      "23  Dec-2011         309978                177975.0\n",
      "24  Jan-2012        -755566              -1065544.0\n",
      "25  Feb-2012        1170593               1926159.0\n",
      "26  Mar-2012         252788               -917805.0\n",
      "27  Apr-2012        1151518                898730.0\n",
      "28  May-2012         817256               -334262.0\n",
      "29  Jun-2012         570757               -246499.0\n",
      "..       ...            ...                     ...\n",
      "56  Sep-2014        1166643                365942.0\n",
      "57  Oct-2014         947333               -219310.0\n",
      "58  Nov-2014         578668               -368665.0\n",
      "59  Dec-2014         988505                409837.0\n",
      "60  Jan-2015        1139715                151210.0\n",
      "61  Feb-2015        1029471               -110244.0\n",
      "62  Mar-2015         687533               -341938.0\n",
      "63  Apr-2015        -524626              -1212159.0\n",
      "64  May-2015         158620                683246.0\n",
      "65  Jun-2015          87795                -70825.0\n",
      "66  Jul-2015         423389                335594.0\n",
      "67  Aug-2015         840723                417334.0\n",
      "68  Sep-2015         568529               -272194.0\n",
      "69  Oct-2015         332067               -236462.0\n",
      "70  Nov-2015         989499                657432.0\n",
      "71  Dec-2015         778237               -211262.0\n",
      "72  Jan-2016         650000               -128237.0\n",
      "73  Feb-2016       -1100387              -1750387.0\n",
      "74  Mar-2016        -174946                925441.0\n",
      "75  Apr-2016         757143                932089.0\n",
      "76  May-2016         445709               -311434.0\n",
      "77  Jun-2016         712961                267252.0\n",
      "78  Jul-2016       -1163797              -1876758.0\n",
      "79  Aug-2016         569899               1733696.0\n",
      "80  Sep-2016         768450                198551.0\n",
      "81  Oct-2016         102685               -665765.0\n",
      "82  Nov-2016         795914                693229.0\n",
      "83  Dec-2016          60988               -734926.0\n",
      "84  Jan-2017         138230                 77242.0\n",
      "85  Feb-2017         671099                532869.0\n",
      "\n",
      "[86 rows x 3 columns]\n"
     ]
    }
   ],
   "source": [
    "#Calculate changes in \"Profit/Losses\" over the entire period\n",
    "\n",
    "profit_loss = budget_data[\"Profit/Losses\"]\n",
    "\n",
    "budget_data['Month-to-Month Changes'] = budget_data['Profit/Losses'] - budget_data['Profit/Losses'].shift(1)\n",
    "print(budget_data)"
   ]
  },
  {
   "cell_type": "code",
   "execution_count": 56,
   "metadata": {},
   "outputs": [
    {
     "name": "stdout",
     "output_type": "stream",
     "text": [
      "1      116771.0\n",
      "2     -662642.0\n",
      "3     -391430.0\n",
      "4      379920.0\n",
      "5      212354.0\n",
      "6      510239.0\n",
      "7     -428211.0\n",
      "8     -821271.0\n",
      "9      693918.0\n",
      "10     416278.0\n",
      "11    -974163.0\n",
      "12     860159.0\n",
      "13   -1115009.0\n",
      "14    1033048.0\n",
      "15      95318.0\n",
      "16    -308093.0\n",
      "17      99052.0\n",
      "18    -521393.0\n",
      "19     605450.0\n",
      "20     231727.0\n",
      "21     -65187.0\n",
      "22    -702716.0\n",
      "23     177975.0\n",
      "24   -1065544.0\n",
      "25    1926159.0\n",
      "26    -917805.0\n",
      "27     898730.0\n",
      "28    -334262.0\n",
      "29    -246499.0\n",
      "30     -64055.0\n",
      "        ...    \n",
      "56     365942.0\n",
      "57    -219310.0\n",
      "58    -368665.0\n",
      "59     409837.0\n",
      "60     151210.0\n",
      "61    -110244.0\n",
      "62    -341938.0\n",
      "63   -1212159.0\n",
      "64     683246.0\n",
      "65     -70825.0\n",
      "66     335594.0\n",
      "67     417334.0\n",
      "68    -272194.0\n",
      "69    -236462.0\n",
      "70     657432.0\n",
      "71    -211262.0\n",
      "72    -128237.0\n",
      "73   -1750387.0\n",
      "74     925441.0\n",
      "75     932089.0\n",
      "76    -311434.0\n",
      "77     267252.0\n",
      "78   -1876758.0\n",
      "79    1733696.0\n",
      "80     198551.0\n",
      "81    -665765.0\n",
      "82     693229.0\n",
      "83    -734926.0\n",
      "84      77242.0\n",
      "85     532869.0\n",
      "Name: Month-to-Month Changes, Length: 85, dtype: float64\n"
     ]
    }
   ],
   "source": [
    "#The average of the changes in \"Profit/Losses\" over the entire period\n",
    "\n",
    "changes = budget_data.loc[1:86, \"Month-to-Month Changes\"]\n",
    "\n",
    "print(changes)"
   ]
  },
  {
   "cell_type": "code",
   "execution_count": 65,
   "metadata": {},
   "outputs": [
    {
     "name": "stdout",
     "output_type": "stream",
     "text": [
      "-2315.11\n"
     ]
    }
   ],
   "source": [
    "#for row in profit_loss[1:]:\n",
    "import math \n",
    "\n",
    "from statistics import mean \n",
    "mean = float(mean(changes))\n",
    "print(math.ceil(mean*100)/100)"
   ]
  },
  {
   "cell_type": "code",
   "execution_count": null,
   "metadata": {},
   "outputs": [],
   "source": []
  }
 ],
 "metadata": {
  "kernelspec": {
   "display_name": "Python 3",
   "language": "python",
   "name": "python3"
  },
  "language_info": {
   "codemirror_mode": {
    "name": "ipython",
    "version": 3
   },
   "file_extension": ".py",
   "mimetype": "text/x-python",
   "name": "python",
   "nbconvert_exporter": "python",
   "pygments_lexer": "ipython3",
   "version": "3.7.0"
  }
 },
 "nbformat": 4,
 "nbformat_minor": 2
}
