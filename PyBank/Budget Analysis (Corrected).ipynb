{
 "cells": [
  {
   "cell_type": "code",
   "execution_count": 2,
   "metadata": {},
   "outputs": [
    {
     "name": "stdout",
     "output_type": "stream",
     "text": [
      "Financial Analysis\n",
      "-----------------------------------\n",
      "Total Months: 86\n",
      "Total Revenue: $ 38382578\n",
      "Avereage Revenue Change: $ -2315.11\n",
      "Greatest Increase in Revenue: Jan-2012 ($ 1926159 )\n",
      "Greatest Decrease in Revenue: Aug-2013 ($ -2196167 )\n"
     ]
    }
   ],
   "source": [
    "#-------------------------#\n",
    "# Holly Bergen            #\n",
    "# 06Feb2019               #\n",
    "# Budget Analysis         #\n",
    "#-------------------------#\n",
    "\n",
    "import os\n",
    "import csv\n",
    "import math\n",
    "\n",
    "path = os.path.join('budget_data.csv')\n",
    "with open(path, 'r') as csvfile:\n",
    "    budgetreader = csv.reader(csvfile, delimiter = ',')\n",
    "    \n",
    "#Remove headers & first row and save as separate variable\n",
    "    \n",
    "    header = next(budgetreader)\n",
    "    \n",
    "#Assign column variable names and append using loop \n",
    "\n",
    "    months =[]\n",
    "    profit_losses =[]\n",
    "      \n",
    "    for row in budgetreader:\n",
    "        \n",
    "        months.append(row[0])\n",
    "        profit_losses.append(row[1])\n",
    "        \n",
    "\n",
    "#Calculate the net total amount of \"Profit/Losses\" over the entire period\n",
    "\n",
    "profit_losses = [int(x) for x in profit_losses]\n",
    "sum_pl = sum(profit_losses)\n",
    "\n",
    "\n",
    "#--------------------------------In this loop---------------------------------#\n",
    "#     The average of the changes in \"Profit/Losses\" over the entire period    #\n",
    "#  The greatest increase in profits (date and amount) over the entire period  #\n",
    "#  The greatest decrease in losses (date and amount) over the entire period   #\n",
    "#-----------------------------------------------------------------------------#\n",
    "\n",
    "pl_change =[]\n",
    "\n",
    "for row in range(1,len(profit_losses)):\n",
    "    \n",
    "    pl_change.append(profit_losses[row] - profit_losses[row-1])   \n",
    "    \n",
    "    avg_pl_change = sum(pl_change)/len(pl_change)\n",
    "    max_pl_change = max(pl_change)\n",
    "    min_pl_change = min(pl_change)\n",
    "    max_pl_change_date = str(months[pl_change.index(max(pl_change))])\n",
    "    min_pl_change_date = str(months[pl_change.index(min(pl_change))])\n",
    "\n",
    "\n",
    "#---------------------------------Print final---------------------------------#\n",
    "\n",
    "print(\"Financial Analysis\")\n",
    "print(\"-----------------------------------\")\n",
    "print(\"Total Months:\", len(months))\n",
    "print(\"Total Revenue: $\", sum_pl)\n",
    "print(\"Avereage Revenue Change: $\", math.ceil(avg_pl_change*100)/100)\n",
    "print(\"Greatest Increase in Revenue:\", max_pl_change_date,\"($\", max_pl_change,\")\")\n",
    "print(\"Greatest Decrease in Revenue:\", min_pl_change_date,\"($\", min_pl_change,\")\")"
   ]
  },
  {
   "cell_type": "code",
   "execution_count": null,
   "metadata": {},
   "outputs": [],
   "source": []
  }
 ],
 "metadata": {
  "kernelspec": {
   "display_name": "Python 3",
   "language": "python",
   "name": "python3"
  },
  "language_info": {
   "codemirror_mode": {
    "name": "ipython",
    "version": 3
   },
   "file_extension": ".py",
   "mimetype": "text/x-python",
   "name": "python",
   "nbconvert_exporter": "python",
   "pygments_lexer": "ipython3",
   "version": "3.7.0"
  }
 },
 "nbformat": 4,
 "nbformat_minor": 2
}
