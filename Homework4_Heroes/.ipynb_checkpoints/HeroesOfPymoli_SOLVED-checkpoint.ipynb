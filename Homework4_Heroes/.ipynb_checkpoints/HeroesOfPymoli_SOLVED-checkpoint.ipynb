{
 "cells": [
  {
   "cell_type": "markdown",
   "metadata": {},
   "source": [
    "### Heroes Of Pymoli Data Analysis\n",
    "* Of the 1163 active players, the vast majority are male (84%). There also exists, a smaller, but notable proportion of female players (14%).\n",
    "\n",
    "* Our peak age demographic falls between 20-24 (44.8%) with secondary groups falling between 15-19 (18.60%) and 25-29 (13.4%).  \n",
    "-----"
   ]
  },
  {
   "cell_type": "markdown",
   "metadata": {},
   "source": [
    "### Note\n",
    "* Instructions have been included for each segment. You do not have to follow them exactly, but they are included to help you think through the steps."
   ]
  },
  {
   "cell_type": "code",
   "execution_count": 1,
   "metadata": {},
   "outputs": [],
   "source": [
    "# Dependencies and Setup\n",
    "import pandas as pd\n",
    "import numpy as np\n",
    "\n",
    "# File to Load (Remember to Change These)\n",
    "file = \"Resources/purchase_data.csv\"\n",
    "\n",
    "# Read Purchasing File and store into Pandas data frame\n",
    "heroes_data = pd.read_csv(file)"
   ]
  },
  {
   "cell_type": "markdown",
   "metadata": {},
   "source": [
    "## Player Count"
   ]
  },
  {
   "cell_type": "markdown",
   "metadata": {},
   "source": [
    "* Display the total number of players\n"
   ]
  },
  {
   "cell_type": "code",
   "execution_count": 2,
   "metadata": {},
   "outputs": [
    {
     "data": {
      "text/html": [
       "<div>\n",
       "<style scoped>\n",
       "    .dataframe tbody tr th:only-of-type {\n",
       "        vertical-align: middle;\n",
       "    }\n",
       "\n",
       "    .dataframe tbody tr th {\n",
       "        vertical-align: top;\n",
       "    }\n",
       "\n",
       "    .dataframe thead th {\n",
       "        text-align: right;\n",
       "    }\n",
       "</style>\n",
       "<table border=\"1\" class=\"dataframe\">\n",
       "  <thead>\n",
       "    <tr style=\"text-align: right;\">\n",
       "      <th></th>\n",
       "      <th>Purchase ID</th>\n",
       "      <th>SN</th>\n",
       "      <th>Age</th>\n",
       "      <th>Gender</th>\n",
       "      <th>Item ID</th>\n",
       "      <th>Item Name</th>\n",
       "      <th>Price</th>\n",
       "    </tr>\n",
       "  </thead>\n",
       "  <tbody>\n",
       "    <tr>\n",
       "      <th>0</th>\n",
       "      <td>0</td>\n",
       "      <td>Lisim78</td>\n",
       "      <td>20</td>\n",
       "      <td>Male</td>\n",
       "      <td>108</td>\n",
       "      <td>Extraction, Quickblade Of Trembling Hands</td>\n",
       "      <td>3.53</td>\n",
       "    </tr>\n",
       "    <tr>\n",
       "      <th>1</th>\n",
       "      <td>1</td>\n",
       "      <td>Lisovynya38</td>\n",
       "      <td>40</td>\n",
       "      <td>Male</td>\n",
       "      <td>143</td>\n",
       "      <td>Frenzied Scimitar</td>\n",
       "      <td>1.56</td>\n",
       "    </tr>\n",
       "    <tr>\n",
       "      <th>2</th>\n",
       "      <td>2</td>\n",
       "      <td>Ithergue48</td>\n",
       "      <td>24</td>\n",
       "      <td>Male</td>\n",
       "      <td>92</td>\n",
       "      <td>Final Critic</td>\n",
       "      <td>4.88</td>\n",
       "    </tr>\n",
       "    <tr>\n",
       "      <th>3</th>\n",
       "      <td>3</td>\n",
       "      <td>Chamassasya86</td>\n",
       "      <td>24</td>\n",
       "      <td>Male</td>\n",
       "      <td>100</td>\n",
       "      <td>Blindscythe</td>\n",
       "      <td>3.27</td>\n",
       "    </tr>\n",
       "    <tr>\n",
       "      <th>4</th>\n",
       "      <td>4</td>\n",
       "      <td>Iskosia90</td>\n",
       "      <td>23</td>\n",
       "      <td>Male</td>\n",
       "      <td>131</td>\n",
       "      <td>Fury</td>\n",
       "      <td>1.44</td>\n",
       "    </tr>\n",
       "  </tbody>\n",
       "</table>\n",
       "</div>"
      ],
      "text/plain": [
       "   Purchase ID             SN  Age Gender  Item ID  \\\n",
       "0            0        Lisim78   20   Male      108   \n",
       "1            1    Lisovynya38   40   Male      143   \n",
       "2            2     Ithergue48   24   Male       92   \n",
       "3            3  Chamassasya86   24   Male      100   \n",
       "4            4      Iskosia90   23   Male      131   \n",
       "\n",
       "                                   Item Name  Price  \n",
       "0  Extraction, Quickblade Of Trembling Hands   3.53  \n",
       "1                          Frenzied Scimitar   1.56  \n",
       "2                               Final Critic   4.88  \n",
       "3                                Blindscythe   3.27  \n",
       "4                                       Fury   1.44  "
      ]
     },
     "execution_count": 2,
     "metadata": {},
     "output_type": "execute_result"
    }
   ],
   "source": [
    "heroes_data.head()"
   ]
  },
  {
   "cell_type": "code",
   "execution_count": 3,
   "metadata": {},
   "outputs": [
    {
     "data": {
      "text/html": [
       "<div>\n",
       "<style scoped>\n",
       "    .dataframe tbody tr th:only-of-type {\n",
       "        vertical-align: middle;\n",
       "    }\n",
       "\n",
       "    .dataframe tbody tr th {\n",
       "        vertical-align: top;\n",
       "    }\n",
       "\n",
       "    .dataframe thead th {\n",
       "        text-align: right;\n",
       "    }\n",
       "</style>\n",
       "<table border=\"1\" class=\"dataframe\">\n",
       "  <thead>\n",
       "    <tr style=\"text-align: right;\">\n",
       "      <th></th>\n",
       "      <th>Total Players</th>\n",
       "    </tr>\n",
       "  </thead>\n",
       "  <tbody>\n",
       "    <tr>\n",
       "      <th>0</th>\n",
       "      <td>576</td>\n",
       "    </tr>\n",
       "  </tbody>\n",
       "</table>\n",
       "</div>"
      ],
      "text/plain": [
       "   Total Players\n",
       "0            576"
      ]
     },
     "execution_count": 3,
     "metadata": {},
     "output_type": "execute_result"
    }
   ],
   "source": [
    "# This block finds number of players with.counts, then creates new dataframe with the length \n",
    "player_count = heroes_data[\"SN\"].value_counts()\n",
    "player_total = [{\"Total Players\": len(player_count)}]\n",
    "players_df = pd.DataFrame(player_total)\n",
    "players_df"
   ]
  },
  {
   "cell_type": "markdown",
   "metadata": {},
   "source": [
    "## Purchasing Analysis (Total)"
   ]
  },
  {
   "attachments": {
    "image.png": {
     "image/png": "[encoded data removed]"
    }
   },
   "cell_type": "markdown",
   "metadata": {},
   "source": [
    "* Run basic calculations to obtain number of unique items, average price, etc.\n",
    "\n",
    "\n",
    "* Create a summary data frame to hold the results\n",
    "\n",
    "\n",
    "* Optional: give the displayed data cleaner formatting\n",
    "\n",
    "\n",
    "* Display the summary data frame\n",
    "\n",
    "![image.png](attachment:image.png)"
   ]
  },
  {
   "cell_type": "code",
   "execution_count": 4,
   "metadata": {},
   "outputs": [
    {
     "data": {
      "text/html": [
       "<div>\n",
       "<style scoped>\n",
       "    .dataframe tbody tr th:only-of-type {\n",
       "        vertical-align: middle;\n",
       "    }\n",
       "\n",
       "    .dataframe tbody tr th {\n",
       "        vertical-align: top;\n",
       "    }\n",
       "\n",
       "    .dataframe thead th {\n",
       "        text-align: right;\n",
       "    }\n",
       "</style>\n",
       "<table border=\"1\" class=\"dataframe\">\n",
       "  <thead>\n",
       "    <tr style=\"text-align: right;\">\n",
       "      <th></th>\n",
       "      <th>Number of Unique Items</th>\n",
       "      <th>Average Price</th>\n",
       "      <th>Number of Purchases</th>\n",
       "      <th>Total Revenue</th>\n",
       "    </tr>\n",
       "  </thead>\n",
       "  <tbody>\n",
       "    <tr>\n",
       "      <th>0</th>\n",
       "      <td>183</td>\n",
       "      <td>$3.05</td>\n",
       "      <td>780</td>\n",
       "      <td>$2,379.77</td>\n",
       "    </tr>\n",
       "  </tbody>\n",
       "</table>\n",
       "</div>"
      ],
      "text/plain": [
       "   Number of Unique Items Average Price  Number of Purchases Total Revenue\n",
       "0                     183         $3.05                  780     $2,379.77"
      ]
     },
     "execution_count": 4,
     "metadata": {},
     "output_type": "execute_result"
    }
   ],
   "source": [
    "# Unique function to count the number of unique items\n",
    "unique_items = heroes_data[\"Item ID\"].unique()\n",
    "unique_items = len(unique_items)\n",
    "\n",
    "# Mean function to find average cost, and formatting\n",
    "avg_price = heroes_data[\"Price\"].mean()\n",
    "avg_price = \"${:,}\".format(round(avg_price,2))\n",
    "\n",
    "# Counts function to find number of purchases\n",
    "num_purchases = heroes_data[\"Purchase ID\"].value_counts()\n",
    "num_purchases = len(num_purchases)\n",
    "\n",
    "# Sum function to find total revenue, and formatting\n",
    "total_rev = heroes_data[\"Price\"].sum()\n",
    "total_rev = \"${:,}\".format(total_rev)\n",
    "\n",
    "# Create new dictionary, then dataframe to display data in a table\n",
    "purchase_analysis = [{\n",
    "    \"Number of Unique Items\": unique_items,\n",
    "    \"Average Price\": avg_price,\n",
    "    \"Number of Purchases\": num_purchases,\n",
    "    \"Total Revenue\":total_rev,\n",
    "}]\n",
    "\n",
    "pa_df = players_df = pd.DataFrame(purchase_analysis)\n",
    "pa_df = pa_df[['Number of Unique Items','Average Price','Number of Purchases','Total Revenue']]\n",
    "pa_df"
   ]
  },
  {
   "cell_type": "markdown",
   "metadata": {},
   "source": [
    "## Gender Demographics"
   ]
  },
  {
   "attachments": {
    "image.png": {
     "image/png": "[encoded data removed]"
    }
   },
   "cell_type": "markdown",
   "metadata": {},
   "source": [
    "* Percentage and Count of Male Players\n",
    "\n",
    "\n",
    "* Percentage and Count of Female Players\n",
    "\n",
    "\n",
    "* Percentage and Count of Other / Non-Disclosed\n",
    "\n",
    "![image.png](attachment:image.png)\n"
   ]
  },
  {
   "cell_type": "code",
   "execution_count": 5,
   "metadata": {},
   "outputs": [
    {
     "data": {
      "text/html": [
       "<div>\n",
       "<style scoped>\n",
       "    .dataframe tbody tr th:only-of-type {\n",
       "        vertical-align: middle;\n",
       "    }\n",
       "\n",
       "    .dataframe tbody tr th {\n",
       "        vertical-align: top;\n",
       "    }\n",
       "\n",
       "    .dataframe thead th {\n",
       "        text-align: right;\n",
       "    }\n",
       "</style>\n",
       "<table border=\"1\" class=\"dataframe\">\n",
       "  <thead>\n",
       "    <tr style=\"text-align: right;\">\n",
       "      <th></th>\n",
       "      <th></th>\n",
       "      <th></th>\n",
       "    </tr>\n",
       "    <tr>\n",
       "      <th></th>\n",
       "      <th>Total Count</th>\n",
       "      <th>Percentage of Players</th>\n",
       "    </tr>\n",
       "  </thead>\n",
       "  <tbody>\n",
       "    <tr>\n",
       "      <th>Male</th>\n",
       "      <th>484</th>\n",
       "      <th>84.03%</th>\n",
       "    </tr>\n",
       "    <tr>\n",
       "      <th>Female</th>\n",
       "      <th>81</th>\n",
       "      <th>14.06%</th>\n",
       "    </tr>\n",
       "    <tr>\n",
       "      <th>Other</th>\n",
       "      <th>11</th>\n",
       "      <th>1.91%</th>\n",
       "    </tr>\n",
       "  </tbody>\n",
       "</table>\n",
       "</div>"
      ],
      "text/plain": [
       "Empty DataFrame\n",
       "Columns: []\n",
       "Index: [(Male, 484, 84.03%), (Female, 81, 14.06%), (Other, 11, 1.91%)]"
      ]
     },
     "execution_count": 5,
     "metadata": {},
     "output_type": "execute_result"
    }
   ],
   "source": [
    "#################################\n",
    "#            METHOD 1           #\n",
    "#################################\n",
    "\n",
    "# Drops duplicates in the Screen Name to leave only unique users\n",
    "unique_sn_df = heroes_data.drop_duplicates(subset =\"SN\", keep = 'first')\n",
    "len(unique_sn_df)\n",
    "\n",
    "# Use Masking to find only Male values in \"Gender\" column. Then calculate.\n",
    "gender_male = unique_sn_df[unique_sn_df[\"Gender\"] == \"Male\"]\n",
    "num_male = len(gender_male)\n",
    "perc_male = len(gender_male)/len(unique_sn_df[\"SN\"])\n",
    "perc_male = \"{:.2%}\".format(perc_male)\n",
    "\n",
    "# Use Masking to find only Female values in \"Gender\" column. Then calculate.\n",
    "gender_female = unique_sn_df[unique_sn_df[\"Gender\"] == \"Female\"]\n",
    "num_female = len(gender_female)\n",
    "perc_female = len(gender_female)/len(unique_sn_df[\"SN\"])\n",
    "perc_female = \"{:.2%}\".format(perc_female)\n",
    "\n",
    "# Use Masking to find only Other values in \"Gender\" column. Then calculate.\n",
    "gender_other = unique_sn_df[unique_sn_df[\"Gender\"] == \"Other / Non-Disclosed\"]\n",
    "num_other = len(gender_other)\n",
    "perc_other = len(gender_other)/len(unique_sn_df[\"SN\"])\n",
    "perc_other = \"{:.2%}\".format(perc_other)\n",
    "\n",
    "# Create new dictionary, then dataframe to display data in a table\n",
    "gender_analysis = {\n",
    "         '' : ['Male', 'Female', 'Other'],\n",
    "         'Total Count' : [num_male, num_female, num_other],\n",
    "         'Percentage of Players' : [perc_male, perc_female, perc_other],\n",
    "}\n",
    "\n",
    "gender_df = pd.DataFrame(gender_analysis)\n",
    "gender_df.set_index(keys=['','Total Count','Percentage of Players'], inplace=True)\n",
    "gender_df"
   ]
  },
  {
   "cell_type": "code",
   "execution_count": 6,
   "metadata": {},
   "outputs": [
    {
     "name": "stderr",
     "output_type": "stream",
     "text": [
      "C:\\Users\\T430s\\Anaconda3\\lib\\site-packages\\ipykernel_launcher.py:10: SettingWithCopyWarning: \n",
      "A value is trying to be set on a copy of a slice from a DataFrame\n",
      "\n",
      "See the caveats in the documentation: http://pandas.pydata.org/pandas-docs/stable/indexing.html#indexing-view-versus-copy\n",
      "  # Remove the CWD from sys.path while we load stuff.\n"
     ]
    },
    {
     "data": {
      "text/html": [
       "<style  type=\"text/css\" >\n",
       "</style>  \n",
       "<table id=\"T_335aaee2_2f08_11e9_a95b_f0def122bb9a\" > \n",
       "<thead>    <tr> \n",
       "        <th class=\"blank level0\" ></th> \n",
       "        <th class=\"col_heading level0 col0\" >Total Count</th> \n",
       "        <th class=\"col_heading level0 col1\" >Percentage of Players</th> \n",
       "    </tr>    <tr> \n",
       "        <th class=\"index_name level0\" >Gender</th> \n",
       "        <th class=\"blank\" ></th> \n",
       "        <th class=\"blank\" ></th> \n",
       "    </tr></thead> \n",
       "<tbody>    <tr> \n",
       "        <th id=\"T_335aaee2_2f08_11e9_a95b_f0def122bb9alevel0_row0\" class=\"row_heading level0 row0\" >Female</th> \n",
       "        <td id=\"T_335aaee2_2f08_11e9_a95b_f0def122bb9arow0_col0\" class=\"data row0 col0\" >81</td> \n",
       "        <td id=\"T_335aaee2_2f08_11e9_a95b_f0def122bb9arow0_col1\" class=\"data row0 col1\" >14.06%</td> \n",
       "    </tr>    <tr> \n",
       "        <th id=\"T_335aaee2_2f08_11e9_a95b_f0def122bb9alevel0_row1\" class=\"row_heading level0 row1\" >Male</th> \n",
       "        <td id=\"T_335aaee2_2f08_11e9_a95b_f0def122bb9arow1_col0\" class=\"data row1 col0\" >484</td> \n",
       "        <td id=\"T_335aaee2_2f08_11e9_a95b_f0def122bb9arow1_col1\" class=\"data row1 col1\" >84.03%</td> \n",
       "    </tr>    <tr> \n",
       "        <th id=\"T_335aaee2_2f08_11e9_a95b_f0def122bb9alevel0_row2\" class=\"row_heading level0 row2\" >Other / Non-Disclosed</th> \n",
       "        <td id=\"T_335aaee2_2f08_11e9_a95b_f0def122bb9arow2_col0\" class=\"data row2 col0\" >11</td> \n",
       "        <td id=\"T_335aaee2_2f08_11e9_a95b_f0def122bb9arow2_col1\" class=\"data row2 col1\" >1.91%</td> \n",
       "    </tr></tbody> \n",
       "</table> "
      ],
      "text/plain": [
       "<pandas.io.formats.style.Styler at 0x802beb8>"
      ]
     },
     "execution_count": 6,
     "metadata": {},
     "output_type": "execute_result"
    }
   ],
   "source": [
    "#################################\n",
    "#            METHOD 2           #\n",
    "#################################\n",
    "\n",
    "# Create dataframe of just User Name and Gender\n",
    "new_df = heroes_data[[\"SN\", \"Gender\"]] \n",
    "#NOTE: With one bracket and 1 argument will return a series. Double brackets for 2 arguments.\n",
    "\n",
    "# Drops duplicates of user\n",
    "new_df.drop_duplicates(keep = 'first', inplace = True)\n",
    "\n",
    "# This takes the unique item dataframe, groups by gender, and outputs the counts\n",
    "df_groupby = new_df.groupby(\"Gender\")\n",
    "groupby_count = df_groupby.count()\n",
    "\n",
    "# This creates a new column, calculating the percentage\n",
    "groupby_count[\"Percentage\"] = (groupby_count/(len(new_df)))\n",
    "\n",
    "# Set up output table for Gender Analysis\n",
    "columns_renamed = {'SN': 'Total Count',\n",
    " 'Percentage': 'Percentage of Players'}\n",
    "\n",
    "groupby_count = groupby_count.rename(columns=columns_renamed)\n",
    "groupby_count\n",
    "groupby_count.style.format({'Percentage of Players': \"{:.2%}\"})"
   ]
  },
  {
   "cell_type": "markdown",
   "metadata": {},
   "source": [
    "\n",
    "## Purchasing Analysis (Gender)"
   ]
  },
  {
   "attachments": {
    "image.png": {
     "image/png": "[encoded data removed]"
    }
   },
   "cell_type": "markdown",
   "metadata": {},
   "source": [
    "* Run basic calculations to obtain purchase count, avg. purchase price, avg. purchase total per person etc. by gender\n",
    "\n",
    "\n",
    "\n",
    "\n",
    "* Create a summary data frame to hold the results\n",
    "\n",
    "\n",
    "* Optional: give the displayed data cleaner formatting\n",
    "\n",
    "\n",
    "* Display the summary data frame\n",
    "\n",
    "![image.png](attachment:image.png)"
   ]
  },
  {
   "cell_type": "code",
   "execution_count": 8,
   "metadata": {},
   "outputs": [
    {
     "data": {
      "text/html": [
       "<div>\n",
       "<style scoped>\n",
       "    .dataframe tbody tr th:only-of-type {\n",
       "        vertical-align: middle;\n",
       "    }\n",
       "\n",
       "    .dataframe tbody tr th {\n",
       "        vertical-align: top;\n",
       "    }\n",
       "\n",
       "    .dataframe thead th {\n",
       "        text-align: right;\n",
       "    }\n",
       "</style>\n",
       "<table border=\"1\" class=\"dataframe\">\n",
       "  <thead>\n",
       "    <tr style=\"text-align: right;\">\n",
       "      <th></th>\n",
       "      <th>Purchase Count</th>\n",
       "      <th>Average Purchase Price</th>\n",
       "      <th>Total Purchase Value</th>\n",
       "      <th>Average Total Purchase Per Person</th>\n",
       "    </tr>\n",
       "    <tr>\n",
       "      <th>Gender</th>\n",
       "      <th></th>\n",
       "      <th></th>\n",
       "      <th></th>\n",
       "      <th></th>\n",
       "    </tr>\n",
       "  </thead>\n",
       "  <tbody>\n",
       "    <tr>\n",
       "      <th>Female</th>\n",
       "      <td>113</td>\n",
       "      <td>$3.20</td>\n",
       "      <td>$361.94</td>\n",
       "      <td>$4.47</td>\n",
       "    </tr>\n",
       "    <tr>\n",
       "      <th>Male</th>\n",
       "      <td>652</td>\n",
       "      <td>$3.02</td>\n",
       "      <td>$1,967.64</td>\n",
       "      <td>$4.07</td>\n",
       "    </tr>\n",
       "    <tr>\n",
       "      <th>Other / Non-Disclosed</th>\n",
       "      <td>15</td>\n",
       "      <td>$3.35</td>\n",
       "      <td>$50.19</td>\n",
       "      <td>$4.56</td>\n",
       "    </tr>\n",
       "  </tbody>\n",
       "</table>\n",
       "</div>"
      ],
      "text/plain": [
       "                       Purchase Count Average Purchase Price  \\\n",
       "Gender                                                         \n",
       "Female                            113                  $3.20   \n",
       "Male                              652                  $3.02   \n",
       "Other / Non-Disclosed              15                  $3.35   \n",
       "\n",
       "                      Total Purchase Value Average Total Purchase Per Person  \n",
       "Gender                                                                        \n",
       "Female                             $361.94                             $4.47  \n",
       "Male                             $1,967.64                             $4.07  \n",
       "Other / Non-Disclosed               $50.19                             $4.56  "
      ]
     },
     "execution_count": 8,
     "metadata": {},
     "output_type": "execute_result"
    }
   ],
   "source": [
    "# Create dataframe of variables we are interested in\n",
    "df_purchasing = heroes_data[[\"SN\",\"Gender\",\"Purchase ID\",\"Price\"]] \n",
    "\n",
    "# This takes the purchasing dataframe, groups by gender, and outputs the counts\n",
    "df_groupby_gender = df_purchasing.groupby(\"Gender\")\n",
    "\n",
    "# Establish all calculations for output\n",
    "#-------------------------------------#\n",
    "# These are SERIES to be passed in final dataframe, using the GENDER-GROUPED dataframe for each referenced column.\n",
    "\n",
    "purchase_count = df_groupby_gender[\"Gender\"].count()\n",
    "\n",
    "avg_purchase_price = df_groupby_gender[\"Price\"].mean()\n",
    "new_purchase_price = avg_purchase_price.map('${:,.2f}'.format)\n",
    "\n",
    "total_purchase_value = purchase_count*avg_purchase_price\n",
    "new_purchase_value = total_purchase_value.map('${:,.2f}'.format)\n",
    "\n",
    "total_purchase_pp = df_groupby_gender[\"Price\"].sum()\n",
    "unique = df_groupby_gender[\"SN\"].nunique()\n",
    "\n",
    "avg_purchase_pp = total_purchase_pp/unique\n",
    "new_purchase_pp = avg_purchase_pp.map('${:,.2f}'.format)\n",
    "\n",
    "# Create summary table\n",
    "purchase_summary_table = pd.DataFrame({\"Purchase Count\": purchase_count,\n",
    "                                       \"Average Purchase Price\": new_purchase_price,\n",
    "                                       \"Total Purchase Value\": new_purchase_value,\n",
    "                                       \"Average Total Purchase Per Person\": new_purchase_pp\n",
    "                                    })\n",
    "\n",
    "purchase_summary_table"
   ]
  },
  {
   "cell_type": "markdown",
   "metadata": {},
   "source": [
    "## Age Demographics"
   ]
  },
  {
   "attachments": {
    "image.png": {
     "image/png": "[encoded data removed]"
    }
   },
   "cell_type": "markdown",
   "metadata": {},
   "source": [
    "* Establish bins for ages\n",
    "\n",
    "\n",
    "* Categorize the existing players using the age bins. Hint: use pd.cut()\n",
    "\n",
    "\n",
    "* Calculate the numbers and percentages by age group\n",
    "\n",
    "\n",
    "* Create a summary data frame to hold the results\n",
    "\n",
    "\n",
    "* Optional: round the percentage column to two decimal points\n",
    "\n",
    "\n",
    "* Display Age Demographics Table\n",
    "\n",
    "![image.png](attachment:image.png)"
   ]
  },
  {
   "cell_type": "code",
   "execution_count": 15,
   "metadata": {},
   "outputs": [
    {
     "name": "stderr",
     "output_type": "stream",
     "text": [
      "C:\\Users\\T430s\\Anaconda3\\lib\\site-packages\\ipykernel_launcher.py:4: SettingWithCopyWarning: \n",
      "A value is trying to be set on a copy of a slice from a DataFrame.\n",
      "Try using .loc[row_indexer,col_indexer] = value instead\n",
      "\n",
      "See the caveats in the documentation: http://pandas.pydata.org/pandas-docs/stable/indexing.html#indexing-view-versus-copy\n",
      "  after removing the cwd from sys.path.\n"
     ]
    },
    {
     "data": {
      "text/html": [
       "<style  type=\"text/css\" >\n",
       "</style>  \n",
       "<table id=\"T_4d8e5f66_2f08_11e9_9ba4_f0def122bb9a\" > \n",
       "<thead>    <tr> \n",
       "        <th class=\"blank level0\" ></th> \n",
       "        <th class=\"col_heading level0 col0\" >Total Count</th> \n",
       "        <th class=\"col_heading level0 col1\" >Percentage of Players</th> \n",
       "    </tr>    <tr> \n",
       "        <th class=\"index_name level0\" >Grouped Age</th> \n",
       "        <th class=\"blank\" ></th> \n",
       "        <th class=\"blank\" ></th> \n",
       "    </tr></thead> \n",
       "<tbody>    <tr> \n",
       "        <th id=\"T_4d8e5f66_2f08_11e9_9ba4_f0def122bb9alevel0_row0\" class=\"row_heading level0 row0\" ><10</th> \n",
       "        <td id=\"T_4d8e5f66_2f08_11e9_9ba4_f0def122bb9arow0_col0\" class=\"data row0 col0\" >17</td> \n",
       "        <td id=\"T_4d8e5f66_2f08_11e9_9ba4_f0def122bb9arow0_col1\" class=\"data row0 col1\" >2.95%</td> \n",
       "    </tr>    <tr> \n",
       "        <th id=\"T_4d8e5f66_2f08_11e9_9ba4_f0def122bb9alevel0_row1\" class=\"row_heading level0 row1\" >10-14</th> \n",
       "        <td id=\"T_4d8e5f66_2f08_11e9_9ba4_f0def122bb9arow1_col0\" class=\"data row1 col0\" >22</td> \n",
       "        <td id=\"T_4d8e5f66_2f08_11e9_9ba4_f0def122bb9arow1_col1\" class=\"data row1 col1\" >3.82%</td> \n",
       "    </tr>    <tr> \n",
       "        <th id=\"T_4d8e5f66_2f08_11e9_9ba4_f0def122bb9alevel0_row2\" class=\"row_heading level0 row2\" >15-19</th> \n",
       "        <td id=\"T_4d8e5f66_2f08_11e9_9ba4_f0def122bb9arow2_col0\" class=\"data row2 col0\" >107</td> \n",
       "        <td id=\"T_4d8e5f66_2f08_11e9_9ba4_f0def122bb9arow2_col1\" class=\"data row2 col1\" >18.58%</td> \n",
       "    </tr>    <tr> \n",
       "        <th id=\"T_4d8e5f66_2f08_11e9_9ba4_f0def122bb9alevel0_row3\" class=\"row_heading level0 row3\" >20-24</th> \n",
       "        <td id=\"T_4d8e5f66_2f08_11e9_9ba4_f0def122bb9arow3_col0\" class=\"data row3 col0\" >258</td> \n",
       "        <td id=\"T_4d8e5f66_2f08_11e9_9ba4_f0def122bb9arow3_col1\" class=\"data row3 col1\" >44.79%</td> \n",
       "    </tr>    <tr> \n",
       "        <th id=\"T_4d8e5f66_2f08_11e9_9ba4_f0def122bb9alevel0_row4\" class=\"row_heading level0 row4\" >25-29</th> \n",
       "        <td id=\"T_4d8e5f66_2f08_11e9_9ba4_f0def122bb9arow4_col0\" class=\"data row4 col0\" >77</td> \n",
       "        <td id=\"T_4d8e5f66_2f08_11e9_9ba4_f0def122bb9arow4_col1\" class=\"data row4 col1\" >13.37%</td> \n",
       "    </tr>    <tr> \n",
       "        <th id=\"T_4d8e5f66_2f08_11e9_9ba4_f0def122bb9alevel0_row5\" class=\"row_heading level0 row5\" >30-34</th> \n",
       "        <td id=\"T_4d8e5f66_2f08_11e9_9ba4_f0def122bb9arow5_col0\" class=\"data row5 col0\" >52</td> \n",
       "        <td id=\"T_4d8e5f66_2f08_11e9_9ba4_f0def122bb9arow5_col1\" class=\"data row5 col1\" >9.03%</td> \n",
       "    </tr>    <tr> \n",
       "        <th id=\"T_4d8e5f66_2f08_11e9_9ba4_f0def122bb9alevel0_row6\" class=\"row_heading level0 row6\" >35-39</th> \n",
       "        <td id=\"T_4d8e5f66_2f08_11e9_9ba4_f0def122bb9arow6_col0\" class=\"data row6 col0\" >31</td> \n",
       "        <td id=\"T_4d8e5f66_2f08_11e9_9ba4_f0def122bb9arow6_col1\" class=\"data row6 col1\" >5.38%</td> \n",
       "    </tr>    <tr> \n",
       "        <th id=\"T_4d8e5f66_2f08_11e9_9ba4_f0def122bb9alevel0_row7\" class=\"row_heading level0 row7\" >40+</th> \n",
       "        <td id=\"T_4d8e5f66_2f08_11e9_9ba4_f0def122bb9arow7_col0\" class=\"data row7 col0\" >12</td> \n",
       "        <td id=\"T_4d8e5f66_2f08_11e9_9ba4_f0def122bb9arow7_col1\" class=\"data row7 col1\" >2.08%</td> \n",
       "    </tr></tbody> \n",
       "</table> "
      ],
      "text/plain": [
       "<pandas.io.formats.style.Styler at 0x80374a8>"
      ]
     },
     "execution_count": 15,
     "metadata": {},
     "output_type": "execute_result"
    }
   ],
   "source": [
    "# Establish bins for ages. Uses unique dataframe with duplicate users dropped.\n",
    "bins = [0, 9, 14, 19, 24, 29, 34, 39, 100]\n",
    "group_names = [\"<10\", \"10-14\", \"15-19\", \"20-24\", \"25-29\",\"30-34\",\"35-39\",\"40+\"]\n",
    "unique_sn_df[\"Grouped Age\"] = pd.cut(unique_sn_df[\"Age\"], bins, labels=group_names)\n",
    "\n",
    "# Create dataframe of variables we are interested in\n",
    "df_age = unique_sn_df[[\"Age\",\"Grouped Age\"]]\n",
    "\n",
    "# Group by Grouped Age category\n",
    "df_groupby_age = df_age.groupby(\"Grouped Age\")\n",
    "\n",
    "# Establish SERIES as variables for calculations\n",
    "total_count = df_groupby_age[\"Age\"].count()\n",
    "perc_players = total_count/len(unique_sn_df[\"Age\"])\n",
    "new_perc_players = perc_players\n",
    "\n",
    "# Create summary table\n",
    "age_summary_table = pd.DataFrame({\"Total Count\": total_count,\n",
    "                                  \"Percentage of Players\": new_perc_players\n",
    "                                    })\n",
    "age_summary_table = age_summary_table.style.format({'Percentage of Players': \"{:.2%}\"})\n",
    "age_summary_table"
   ]
  },
  {
   "cell_type": "markdown",
   "metadata": {},
   "source": [
    "## Purchasing Analysis (Age)"
   ]
  },
  {
   "attachments": {
    "image.png": {
     "image/png": "[encoded data removed]"
    }
   },
   "cell_type": "markdown",
   "metadata": {},
   "source": [
    "* Bin the purchase_data data frame by age\n",
    "\n",
    "\n",
    "* Run basic calculations to obtain purchase count, avg. purchase price, avg. purchase total per person etc. in the table below\n",
    "\n",
    "\n",
    "* Create a summary data frame to hold the results\n",
    "\n",
    "\n",
    "* Optional: give the displayed data cleaner formatting\n",
    "\n",
    "\n",
    "* Display the summary data frame\n",
    "\n",
    "![image.png](attachment:image.png)"
   ]
  },
  {
   "cell_type": "code",
   "execution_count": 16,
   "metadata": {},
   "outputs": [
    {
     "data": {
      "text/html": [
       "<div>\n",
       "<style scoped>\n",
       "    .dataframe tbody tr th:only-of-type {\n",
       "        vertical-align: middle;\n",
       "    }\n",
       "\n",
       "    .dataframe tbody tr th {\n",
       "        vertical-align: top;\n",
       "    }\n",
       "\n",
       "    .dataframe thead th {\n",
       "        text-align: right;\n",
       "    }\n",
       "</style>\n",
       "<table border=\"1\" class=\"dataframe\">\n",
       "  <thead>\n",
       "    <tr style=\"text-align: right;\">\n",
       "      <th></th>\n",
       "      <th>Purchase Count</th>\n",
       "      <th>Average Purchase Price</th>\n",
       "      <th>Total Purchase Value</th>\n",
       "      <th>Average Total Purchase Per Person</th>\n",
       "    </tr>\n",
       "    <tr>\n",
       "      <th>Grouped Age</th>\n",
       "      <th></th>\n",
       "      <th></th>\n",
       "      <th></th>\n",
       "      <th></th>\n",
       "    </tr>\n",
       "  </thead>\n",
       "  <tbody>\n",
       "    <tr>\n",
       "      <th>&lt;10</th>\n",
       "      <td>23</td>\n",
       "      <td>$3.35</td>\n",
       "      <td>$77.13</td>\n",
       "      <td>$4.54</td>\n",
       "    </tr>\n",
       "    <tr>\n",
       "      <th>10-14</th>\n",
       "      <td>28</td>\n",
       "      <td>$2.96</td>\n",
       "      <td>$82.78</td>\n",
       "      <td>$3.76</td>\n",
       "    </tr>\n",
       "    <tr>\n",
       "      <th>15-19</th>\n",
       "      <td>136</td>\n",
       "      <td>$3.04</td>\n",
       "      <td>$412.89</td>\n",
       "      <td>$3.86</td>\n",
       "    </tr>\n",
       "    <tr>\n",
       "      <th>20-24</th>\n",
       "      <td>365</td>\n",
       "      <td>$3.05</td>\n",
       "      <td>$1,114.06</td>\n",
       "      <td>$4.32</td>\n",
       "    </tr>\n",
       "    <tr>\n",
       "      <th>25-29</th>\n",
       "      <td>101</td>\n",
       "      <td>$2.90</td>\n",
       "      <td>$293.00</td>\n",
       "      <td>$3.81</td>\n",
       "    </tr>\n",
       "    <tr>\n",
       "      <th>30-34</th>\n",
       "      <td>73</td>\n",
       "      <td>$2.93</td>\n",
       "      <td>$214.00</td>\n",
       "      <td>$4.12</td>\n",
       "    </tr>\n",
       "    <tr>\n",
       "      <th>35-39</th>\n",
       "      <td>41</td>\n",
       "      <td>$3.60</td>\n",
       "      <td>$147.67</td>\n",
       "      <td>$4.76</td>\n",
       "    </tr>\n",
       "    <tr>\n",
       "      <th>40+</th>\n",
       "      <td>13</td>\n",
       "      <td>$2.94</td>\n",
       "      <td>$38.24</td>\n",
       "      <td>$3.19</td>\n",
       "    </tr>\n",
       "  </tbody>\n",
       "</table>\n",
       "</div>"
      ],
      "text/plain": [
       "             Purchase Count Average Purchase Price Total Purchase Value  \\\n",
       "Grouped Age                                                               \n",
       "<10                      23                  $3.35               $77.13   \n",
       "10-14                    28                  $2.96               $82.78   \n",
       "15-19                   136                  $3.04              $412.89   \n",
       "20-24                   365                  $3.05            $1,114.06   \n",
       "25-29                   101                  $2.90              $293.00   \n",
       "30-34                    73                  $2.93              $214.00   \n",
       "35-39                    41                  $3.60              $147.67   \n",
       "40+                      13                  $2.94               $38.24   \n",
       "\n",
       "            Average Total Purchase Per Person  \n",
       "Grouped Age                                    \n",
       "<10                                     $4.54  \n",
       "10-14                                   $3.76  \n",
       "15-19                                   $3.86  \n",
       "20-24                                   $4.32  \n",
       "25-29                                   $3.81  \n",
       "30-34                                   $4.12  \n",
       "35-39                                   $4.76  \n",
       "40+                                     $3.19  "
      ]
     },
     "execution_count": 16,
     "metadata": {},
     "output_type": "execute_result"
    }
   ],
   "source": [
    "# Establish bins for ages. Uses FULL dataframe data.\n",
    "heroes_data[\"Grouped Age\"] = pd.cut(heroes_data[\"Age\"], bins, labels=group_names)\n",
    "\n",
    "# Create dataframe of variables we are interested in\n",
    "df_purchasing = heroes_data[[\"Age\",\"Grouped Age\",\"Purchase ID\",\"Price\",\"SN\"]]\n",
    "\n",
    "# This takes the purchasing dataframe, groups by gender, and outputs the counts\n",
    "df_groupby_age_full = df_purchasing.groupby(\"Grouped Age\")\n",
    "\n",
    "# Establish all calculations for output\n",
    "#-------------------------------------#\n",
    "# These are SERIES to be passed in final dataframe, using the AGE-GROUPED dataframe for each referenced column.\n",
    "\n",
    "purchase_count2 = df_groupby_age_full[\"Age\"].count()\n",
    "\n",
    "avg_purchase_price2 = df_groupby_age_full[\"Price\"].mean()\n",
    "new_purchase_price2 = avg_purchase_price2.map('${:,.2f}'.format)\n",
    "\n",
    "total_purchase_value2 = df_groupby_age_full[\"Price\"].sum()\n",
    "new_purchase_value2 = total_purchase_value2.map('${:,.2f}'.format)\n",
    "\n",
    "unique2 = df_groupby_age_full[\"SN\"].nunique()\n",
    "\n",
    "avg_purchase_pp2 = total_purchase_value2/unique2\n",
    "new_purchase_pp2 = avg_purchase_pp2.map('${:,.2f}'.format)\n",
    "\n",
    "#Create summary table\n",
    "purchase_summary_table2 = pd.DataFrame({\"Purchase Count\": purchase_count2,\n",
    "                                        \"Average Purchase Price\": new_purchase_price2,\n",
    "                                        \"Total Purchase Value\": new_purchase_value2,\n",
    "                                        \"Average Total Purchase Per Person\": new_purchase_pp2\n",
    "                                     })\n",
    "\n",
    "purchase_summary_table2"
   ]
  },
  {
   "cell_type": "markdown",
   "metadata": {},
   "source": [
    "## Top Spenders"
   ]
  },
  {
   "attachments": {
    "image.png": {
     "image/png": "[encoded data removed]"
    }
   },
   "cell_type": "markdown",
   "metadata": {},
   "source": [
    "* Run basic calculations to obtain the results in the table below\n",
    "\n",
    "\n",
    "* Create a summary data frame to hold the results\n",
    "\n",
    "\n",
    "* Sort the total purchase value column in descending order\n",
    "\n",
    "\n",
    "* Optional: give the displayed data cleaner formatting\n",
    "\n",
    "\n",
    "* Display a preview of the summary data frame\n",
    "\n",
    "![image.png](attachment:image.png)\n",
    "\n"
   ]
  },
  {
   "cell_type": "code",
   "execution_count": 17,
   "metadata": {},
   "outputs": [
    {
     "data": {
      "text/html": [
       "<style  type=\"text/css\" >\n",
       "</style>  \n",
       "<table id=\"T_6550dfb6_2f08_11e9_bdd1_f0def122bb9a\" > \n",
       "<thead>    <tr> \n",
       "        <th class=\"blank level0\" ></th> \n",
       "        <th class=\"col_heading level0 col0\" >Purchase Count</th> \n",
       "        <th class=\"col_heading level0 col1\" >Average Purchase Price</th> \n",
       "        <th class=\"col_heading level0 col2\" >Total Purchase Value</th> \n",
       "    </tr>    <tr> \n",
       "        <th class=\"index_name level0\" >SN</th> \n",
       "        <th class=\"blank\" ></th> \n",
       "        <th class=\"blank\" ></th> \n",
       "        <th class=\"blank\" ></th> \n",
       "    </tr></thead> \n",
       "<tbody>    <tr> \n",
       "        <th id=\"T_6550dfb6_2f08_11e9_bdd1_f0def122bb9alevel0_row0\" class=\"row_heading level0 row0\" >Lisosia93</th> \n",
       "        <td id=\"T_6550dfb6_2f08_11e9_bdd1_f0def122bb9arow0_col0\" class=\"data row0 col0\" >5</td> \n",
       "        <td id=\"T_6550dfb6_2f08_11e9_bdd1_f0def122bb9arow0_col1\" class=\"data row0 col1\" >$3.79</td> \n",
       "        <td id=\"T_6550dfb6_2f08_11e9_bdd1_f0def122bb9arow0_col2\" class=\"data row0 col2\" >$18.96</td> \n",
       "    </tr>    <tr> \n",
       "        <th id=\"T_6550dfb6_2f08_11e9_bdd1_f0def122bb9alevel0_row1\" class=\"row_heading level0 row1\" >Idastidru52</th> \n",
       "        <td id=\"T_6550dfb6_2f08_11e9_bdd1_f0def122bb9arow1_col0\" class=\"data row1 col0\" >4</td> \n",
       "        <td id=\"T_6550dfb6_2f08_11e9_bdd1_f0def122bb9arow1_col1\" class=\"data row1 col1\" >$3.86</td> \n",
       "        <td id=\"T_6550dfb6_2f08_11e9_bdd1_f0def122bb9arow1_col2\" class=\"data row1 col2\" >$15.45</td> \n",
       "    </tr>    <tr> \n",
       "        <th id=\"T_6550dfb6_2f08_11e9_bdd1_f0def122bb9alevel0_row2\" class=\"row_heading level0 row2\" >Chamjask73</th> \n",
       "        <td id=\"T_6550dfb6_2f08_11e9_bdd1_f0def122bb9arow2_col0\" class=\"data row2 col0\" >3</td> \n",
       "        <td id=\"T_6550dfb6_2f08_11e9_bdd1_f0def122bb9arow2_col1\" class=\"data row2 col1\" >$4.61</td> \n",
       "        <td id=\"T_6550dfb6_2f08_11e9_bdd1_f0def122bb9arow2_col2\" class=\"data row2 col2\" >$13.83</td> \n",
       "    </tr>    <tr> \n",
       "        <th id=\"T_6550dfb6_2f08_11e9_bdd1_f0def122bb9alevel0_row3\" class=\"row_heading level0 row3\" >Iral74</th> \n",
       "        <td id=\"T_6550dfb6_2f08_11e9_bdd1_f0def122bb9arow3_col0\" class=\"data row3 col0\" >4</td> \n",
       "        <td id=\"T_6550dfb6_2f08_11e9_bdd1_f0def122bb9arow3_col1\" class=\"data row3 col1\" >$3.40</td> \n",
       "        <td id=\"T_6550dfb6_2f08_11e9_bdd1_f0def122bb9arow3_col2\" class=\"data row3 col2\" >$13.62</td> \n",
       "    </tr>    <tr> \n",
       "        <th id=\"T_6550dfb6_2f08_11e9_bdd1_f0def122bb9alevel0_row4\" class=\"row_heading level0 row4\" >Iskadarya95</th> \n",
       "        <td id=\"T_6550dfb6_2f08_11e9_bdd1_f0def122bb9arow4_col0\" class=\"data row4 col0\" >3</td> \n",
       "        <td id=\"T_6550dfb6_2f08_11e9_bdd1_f0def122bb9arow4_col1\" class=\"data row4 col1\" >$4.37</td> \n",
       "        <td id=\"T_6550dfb6_2f08_11e9_bdd1_f0def122bb9arow4_col2\" class=\"data row4 col2\" >$13.10</td> \n",
       "    </tr></tbody> \n",
       "</table> "
      ],
      "text/plain": [
       "<pandas.io.formats.style.Styler at 0x992fef0>"
      ]
     },
     "execution_count": 17,
     "metadata": {},
     "output_type": "execute_result"
    }
   ],
   "source": [
    "# Create dataframe of variables we are interested in\n",
    "df_top_spenders = heroes_data[[\"Price\",\"SN\"]]\n",
    "\n",
    "#This takes the spenders dataframe, groups by User (SN)\n",
    "df_groupby_spenders = df_top_spenders.groupby(\"SN\")\n",
    "\n",
    "# Establish all calculations for output\n",
    "#-------------------------------------#\n",
    "# These are SERIES to be passed in final dataframe, using the SN-GROUPED dataframe for each referenced column.\n",
    "\n",
    "purchase_count3 = df_groupby_spenders[\"SN\"].count()\n",
    "avg_purchase_price3 = df_groupby_spenders[\"Price\"].mean()\n",
    "total_purchase_value3 = df_groupby_spenders[\"Price\"].sum()\n",
    "\n",
    "#Create summary table\n",
    "purchase_summary_table3 = pd.DataFrame({\"Purchase Count\": purchase_count3,\n",
    "                                        \"Average Purchase Price\": avg_purchase_price3,\n",
    "                                        \"Total Purchase Value\": total_purchase_value3\n",
    "                                     })\n",
    "\n",
    "# Now sort table by highest Total Purchase Value, display top 5, then format\n",
    "# NOTE: In this case, we must format the columns AFTER sorting values\n",
    "\n",
    "purchase_sorted = purchase_summary_table3.sort_values(\"Total Purchase Value\", ascending=False)\n",
    "purchase_sorted = purchase_sorted.head()\n",
    "purchase_sorted = purchase_sorted.style.format({\"Average Purchase Price\":\"${:,.2f}\",\"Total Purchase Value\": \"${:,.2f}\"})\n",
    "purchase_sorted"
   ]
  },
  {
   "cell_type": "markdown",
   "metadata": {},
   "source": [
    "## Most Popular Items"
   ]
  },
  {
   "attachments": {
    "image.png": {
     "image/png": "[encoded data removed]"
    }
   },
   "cell_type": "markdown",
   "metadata": {},
   "source": [
    "* Retrieve the Item ID, Item Name, and Item Price columns\n",
    "\n",
    "\n",
    "* Group by Item ID and Item Name. Perform calculations to obtain purchase count, item price, and total purchase value\n",
    "\n",
    "\n",
    "* Create a summary data frame to hold the results\n",
    "\n",
    "\n",
    "* Sort the purchase count column in descending order\n",
    "\n",
    "\n",
    "* Optional: give the displayed data cleaner formatting\n",
    "\n",
    "\n",
    "* Display a preview of the summary data frame\n",
    "\n",
    "![image.png](attachment:image.png)"
   ]
  },
  {
   "cell_type": "code",
   "execution_count": 18,
   "metadata": {},
   "outputs": [
    {
     "data": {
      "text/html": [
       "<style  type=\"text/css\" >\n",
       "</style>  \n",
       "<table id=\"T_6cbdec2e_2f08_11e9_a6d5_f0def122bb9a\" > \n",
       "<thead>    <tr> \n",
       "        <th class=\"blank\" ></th> \n",
       "        <th class=\"blank level0\" ></th> \n",
       "        <th class=\"col_heading level0 col0\" >Purchase Count</th> \n",
       "        <th class=\"col_heading level0 col1\" >Item Price</th> \n",
       "        <th class=\"col_heading level0 col2\" >Total Purchase Value</th> \n",
       "    </tr>    <tr> \n",
       "        <th class=\"index_name level0\" >Item ID</th> \n",
       "        <th class=\"index_name level1\" >Item Name</th> \n",
       "        <th class=\"blank\" ></th> \n",
       "        <th class=\"blank\" ></th> \n",
       "        <th class=\"blank\" ></th> \n",
       "    </tr></thead> \n",
       "<tbody>    <tr> \n",
       "        <th id=\"T_6cbdec2e_2f08_11e9_a6d5_f0def122bb9alevel0_row0\" class=\"row_heading level0 row0\" >178</th> \n",
       "        <th id=\"T_6cbdec2e_2f08_11e9_a6d5_f0def122bb9alevel1_row0\" class=\"row_heading level1 row0\" >Oathbreaker, Last Hope of the Breaking Storm</th> \n",
       "        <td id=\"T_6cbdec2e_2f08_11e9_a6d5_f0def122bb9arow0_col0\" class=\"data row0 col0\" >12</td> \n",
       "        <td id=\"T_6cbdec2e_2f08_11e9_a6d5_f0def122bb9arow0_col1\" class=\"data row0 col1\" >$4.23</td> \n",
       "        <td id=\"T_6cbdec2e_2f08_11e9_a6d5_f0def122bb9arow0_col2\" class=\"data row0 col2\" >$50.76</td> \n",
       "    </tr>    <tr> \n",
       "        <th id=\"T_6cbdec2e_2f08_11e9_a6d5_f0def122bb9alevel0_row1\" class=\"row_heading level0 row1\" >145</th> \n",
       "        <th id=\"T_6cbdec2e_2f08_11e9_a6d5_f0def122bb9alevel1_row1\" class=\"row_heading level1 row1\" >Fiery Glass Crusader</th> \n",
       "        <td id=\"T_6cbdec2e_2f08_11e9_a6d5_f0def122bb9arow1_col0\" class=\"data row1 col0\" >9</td> \n",
       "        <td id=\"T_6cbdec2e_2f08_11e9_a6d5_f0def122bb9arow1_col1\" class=\"data row1 col1\" >$4.58</td> \n",
       "        <td id=\"T_6cbdec2e_2f08_11e9_a6d5_f0def122bb9arow1_col2\" class=\"data row1 col2\" >$41.22</td> \n",
       "    </tr>    <tr> \n",
       "        <th id=\"T_6cbdec2e_2f08_11e9_a6d5_f0def122bb9alevel0_row2\" class=\"row_heading level0 row2\" >108</th> \n",
       "        <th id=\"T_6cbdec2e_2f08_11e9_a6d5_f0def122bb9alevel1_row2\" class=\"row_heading level1 row2\" >Extraction, Quickblade Of Trembling Hands</th> \n",
       "        <td id=\"T_6cbdec2e_2f08_11e9_a6d5_f0def122bb9arow2_col0\" class=\"data row2 col0\" >9</td> \n",
       "        <td id=\"T_6cbdec2e_2f08_11e9_a6d5_f0def122bb9arow2_col1\" class=\"data row2 col1\" >$3.53</td> \n",
       "        <td id=\"T_6cbdec2e_2f08_11e9_a6d5_f0def122bb9arow2_col2\" class=\"data row2 col2\" >$31.77</td> \n",
       "    </tr>    <tr> \n",
       "        <th id=\"T_6cbdec2e_2f08_11e9_a6d5_f0def122bb9alevel0_row3\" class=\"row_heading level0 row3\" >82</th> \n",
       "        <th id=\"T_6cbdec2e_2f08_11e9_a6d5_f0def122bb9alevel1_row3\" class=\"row_heading level1 row3\" >Nirvana</th> \n",
       "        <td id=\"T_6cbdec2e_2f08_11e9_a6d5_f0def122bb9arow3_col0\" class=\"data row3 col0\" >9</td> \n",
       "        <td id=\"T_6cbdec2e_2f08_11e9_a6d5_f0def122bb9arow3_col1\" class=\"data row3 col1\" >$4.90</td> \n",
       "        <td id=\"T_6cbdec2e_2f08_11e9_a6d5_f0def122bb9arow3_col2\" class=\"data row3 col2\" >$44.10</td> \n",
       "    </tr>    <tr> \n",
       "        <th id=\"T_6cbdec2e_2f08_11e9_a6d5_f0def122bb9alevel0_row4\" class=\"row_heading level0 row4\" >19</th> \n",
       "        <th id=\"T_6cbdec2e_2f08_11e9_a6d5_f0def122bb9alevel1_row4\" class=\"row_heading level1 row4\" >Pursuit, Cudgel of Necromancy</th> \n",
       "        <td id=\"T_6cbdec2e_2f08_11e9_a6d5_f0def122bb9arow4_col0\" class=\"data row4 col0\" >8</td> \n",
       "        <td id=\"T_6cbdec2e_2f08_11e9_a6d5_f0def122bb9arow4_col1\" class=\"data row4 col1\" >$1.02</td> \n",
       "        <td id=\"T_6cbdec2e_2f08_11e9_a6d5_f0def122bb9arow4_col2\" class=\"data row4 col2\" >$8.16</td> \n",
       "    </tr></tbody> \n",
       "</table> "
      ],
      "text/plain": [
       "<pandas.io.formats.style.Styler at 0x985f208>"
      ]
     },
     "execution_count": 18,
     "metadata": {},
     "output_type": "execute_result"
    }
   ],
   "source": [
    "# Create dataframe of variables we are interested in\n",
    "df_most_popular = heroes_data[[\"Item ID\",\"Item Name\",\"Price\"]]\n",
    "\n",
    "# This takes the spenders dataframe, groups by Item ID & Name\n",
    "df_groupby_popular = df_most_popular.groupby(['Item ID', 'Item Name'])\n",
    "\n",
    "# Establish all calculations for output\n",
    "#-------------------------------------#\n",
    "# These are SERIES to be passed in final dataframe, using the SN-GROUPED dataframe for each referenced column.\n",
    "\n",
    "purchase_count4 = df_groupby_popular[\"Item Name\"].count()\n",
    "item_price = df_groupby_popular[\"Price\"].mean()\n",
    "total_purchase_value4 = df_groupby_popular[\"Price\"].sum()\n",
    "\n",
    "# Create summary table\n",
    "purchase_summary_table4 = pd.DataFrame({\"Purchase Count\": purchase_count4,\n",
    "                                         \"Item Price\": item_price,\n",
    "                                         \"Total Purchase Value\": total_purchase_value4,\n",
    "                                      })\n",
    "\n",
    "# Now sort table by purchase count in descending order, display top 5, and format\n",
    "popular_sorted = purchase_summary_table4.sort_values(\"Purchase Count\", ascending=False)\n",
    "popular_sorted = popular_sorted.head()\n",
    "popular_sorted = popular_sorted.style.format({\"Item Price\":\"${:,.2f}\",\"Total Purchase Value\": \"${:,.2f}\"})\n",
    "popular_sorted"
   ]
  },
  {
   "cell_type": "markdown",
   "metadata": {},
   "source": [
    "## Most Profitable Items"
   ]
  },
  {
   "attachments": {
    "image.png": {
     "image/png": "[encoded data removed]"
    }
   },
   "cell_type": "markdown",
   "metadata": {},
   "source": [
    "* Sort the above table by total purchase value in descending order\n",
    "\n",
    "\n",
    "* Optional: give the displayed data cleaner formatting\n",
    "\n",
    "\n",
    "* Display a preview of the data frame\n",
    "\n",
    "![image.png](attachment:image.png)"
   ]
  },
  {
   "cell_type": "code",
   "execution_count": 14,
   "metadata": {
    "scrolled": true
   },
   "outputs": [
    {
     "data": {
      "text/html": [
       "<style  type=\"text/css\" >\n",
       "</style>  \n",
       "<table id=\"T_338764d8_2f08_11e9_986f_f0def122bb9a\" > \n",
       "<thead>    <tr> \n",
       "        <th class=\"blank\" ></th> \n",
       "        <th class=\"blank level0\" ></th> \n",
       "        <th class=\"col_heading level0 col0\" >Purchase Count</th> \n",
       "        <th class=\"col_heading level0 col1\" >Item Price</th> \n",
       "        <th class=\"col_heading level0 col2\" >Total Purchase Value</th> \n",
       "    </tr>    <tr> \n",
       "        <th class=\"index_name level0\" >Item ID</th> \n",
       "        <th class=\"index_name level1\" >Item Name</th> \n",
       "        <th class=\"blank\" ></th> \n",
       "        <th class=\"blank\" ></th> \n",
       "        <th class=\"blank\" ></th> \n",
       "    </tr></thead> \n",
       "<tbody>    <tr> \n",
       "        <th id=\"T_338764d8_2f08_11e9_986f_f0def122bb9alevel0_row0\" class=\"row_heading level0 row0\" >178</th> \n",
       "        <th id=\"T_338764d8_2f08_11e9_986f_f0def122bb9alevel1_row0\" class=\"row_heading level1 row0\" >Oathbreaker, Last Hope of the Breaking Storm</th> \n",
       "        <td id=\"T_338764d8_2f08_11e9_986f_f0def122bb9arow0_col0\" class=\"data row0 col0\" >12</td> \n",
       "        <td id=\"T_338764d8_2f08_11e9_986f_f0def122bb9arow0_col1\" class=\"data row0 col1\" >$4.23</td> \n",
       "        <td id=\"T_338764d8_2f08_11e9_986f_f0def122bb9arow0_col2\" class=\"data row0 col2\" >$50.76</td> \n",
       "    </tr>    <tr> \n",
       "        <th id=\"T_338764d8_2f08_11e9_986f_f0def122bb9alevel0_row1\" class=\"row_heading level0 row1\" >82</th> \n",
       "        <th id=\"T_338764d8_2f08_11e9_986f_f0def122bb9alevel1_row1\" class=\"row_heading level1 row1\" >Nirvana</th> \n",
       "        <td id=\"T_338764d8_2f08_11e9_986f_f0def122bb9arow1_col0\" class=\"data row1 col0\" >9</td> \n",
       "        <td id=\"T_338764d8_2f08_11e9_986f_f0def122bb9arow1_col1\" class=\"data row1 col1\" >$4.90</td> \n",
       "        <td id=\"T_338764d8_2f08_11e9_986f_f0def122bb9arow1_col2\" class=\"data row1 col2\" >$44.10</td> \n",
       "    </tr>    <tr> \n",
       "        <th id=\"T_338764d8_2f08_11e9_986f_f0def122bb9alevel0_row2\" class=\"row_heading level0 row2\" >145</th> \n",
       "        <th id=\"T_338764d8_2f08_11e9_986f_f0def122bb9alevel1_row2\" class=\"row_heading level1 row2\" >Fiery Glass Crusader</th> \n",
       "        <td id=\"T_338764d8_2f08_11e9_986f_f0def122bb9arow2_col0\" class=\"data row2 col0\" >9</td> \n",
       "        <td id=\"T_338764d8_2f08_11e9_986f_f0def122bb9arow2_col1\" class=\"data row2 col1\" >$4.58</td> \n",
       "        <td id=\"T_338764d8_2f08_11e9_986f_f0def122bb9arow2_col2\" class=\"data row2 col2\" >$41.22</td> \n",
       "    </tr>    <tr> \n",
       "        <th id=\"T_338764d8_2f08_11e9_986f_f0def122bb9alevel0_row3\" class=\"row_heading level0 row3\" >92</th> \n",
       "        <th id=\"T_338764d8_2f08_11e9_986f_f0def122bb9alevel1_row3\" class=\"row_heading level1 row3\" >Final Critic</th> \n",
       "        <td id=\"T_338764d8_2f08_11e9_986f_f0def122bb9arow3_col0\" class=\"data row3 col0\" >8</td> \n",
       "        <td id=\"T_338764d8_2f08_11e9_986f_f0def122bb9arow3_col1\" class=\"data row3 col1\" >$4.88</td> \n",
       "        <td id=\"T_338764d8_2f08_11e9_986f_f0def122bb9arow3_col2\" class=\"data row3 col2\" >$39.04</td> \n",
       "    </tr>    <tr> \n",
       "        <th id=\"T_338764d8_2f08_11e9_986f_f0def122bb9alevel0_row4\" class=\"row_heading level0 row4\" >103</th> \n",
       "        <th id=\"T_338764d8_2f08_11e9_986f_f0def122bb9alevel1_row4\" class=\"row_heading level1 row4\" >Singed Scalpel</th> \n",
       "        <td id=\"T_338764d8_2f08_11e9_986f_f0def122bb9arow4_col0\" class=\"data row4 col0\" >8</td> \n",
       "        <td id=\"T_338764d8_2f08_11e9_986f_f0def122bb9arow4_col1\" class=\"data row4 col1\" >$4.35</td> \n",
       "        <td id=\"T_338764d8_2f08_11e9_986f_f0def122bb9arow4_col2\" class=\"data row4 col2\" >$34.80</td> \n",
       "    </tr></tbody> \n",
       "</table> "
      ],
      "text/plain": [
       "<pandas.io.formats.style.Styler at 0x98f7cc0>"
      ]
     },
     "execution_count": 14,
     "metadata": {},
     "output_type": "execute_result"
    }
   ],
   "source": [
    "# Now sort table by purchase value in descending order\n",
    "popular_sorted = purchase_summary_table4.sort_values(\"Total Purchase Value\", ascending=False)\n",
    "popular_sorted = popular_sorted.head()\n",
    "popular_sorted = popular_sorted.style.format({\"Item Price\":\"${:,.2f}\",\"Total Purchase Value\": \"${:,.2f}\"})\n",
    "popular_sorted"
   ]
  }
 ],
 "metadata": {
  "anaconda-cloud": {},
  "kernel_info": {
   "name": "python3"
  },
  "kernelspec": {
   "display_name": "Python 3",
   "language": "python",
   "name": "python3"
  },
  "language_info": {
   "codemirror_mode": {
    "name": "ipython",
    "version": 3
   },
   "file_extension": ".py",
   "mimetype": "text/x-python",
   "name": "python",
   "nbconvert_exporter": "python",
   "pygments_lexer": "ipython3",
   "version": "3.7.0"
  },
  "nteract": {
   "version": "0.2.0"
  }
 },
 "nbformat": 4,
 "nbformat_minor": 2
}
